{
 "cells": [
  {
   "cell_type": "markdown",
   "metadata": {},
   "source": [
    "#Python Functions"
   ]
  },
  {
   "cell_type": "markdown",
   "metadata": {},
   "source": [
    "Creating a Function\n",
    "In Python a function is defined using the def keyword:"
   ]
  },
  {
   "cell_type": "code",
   "execution_count": 1,
   "metadata": {},
   "outputs": [],
   "source": [
    "#Example:\n",
    "\n",
    "def my_function():\n",
    "  print(\"Hello from a function\")"
   ]
  },
  {
   "cell_type": "markdown",
   "metadata": {},
   "source": [
    "Calling a Function"
   ]
  },
  {
   "cell_type": "code",
   "execution_count": 51,
   "metadata": {},
   "outputs": [
    {
     "name": "stdout",
     "output_type": "stream",
     "text": [
      "Hello from a function\n"
     ]
    }
   ],
   "source": [
    "#Example:\n",
    "\n",
    "def my_function():\n",
    "  print(\"Hello from a function\")\n",
    "\n",
    "my_function()"
   ]
  },
  {
   "cell_type": "markdown",
   "metadata": {},
   "source": [
    "Arguments"
   ]
  },
  {
   "cell_type": "code",
   "execution_count": 52,
   "metadata": {},
   "outputs": [
    {
     "name": "stdout",
     "output_type": "stream",
     "text": [
      "Emil Refsnes\n",
      "Tobias Refsnes\n",
      "Linus Refsnes\n"
     ]
    }
   ],
   "source": [
    "#Example:\n",
    "\n",
    "def my_function(fname):\n",
    "  print(fname + \" Refsnes\")\n",
    "\n",
    "my_function(\"Emil\")\n",
    "my_function(\"Tobias\")\n",
    "my_function(\"Linus\")"
   ]
  },
  {
   "cell_type": "markdown",
   "metadata": {},
   "source": [
    "Number of Arguments"
   ]
  },
  {
   "cell_type": "code",
   "execution_count": 53,
   "metadata": {},
   "outputs": [
    {
     "name": "stdout",
     "output_type": "stream",
     "text": [
      "Emil Refsnes\n"
     ]
    }
   ],
   "source": [
    "#Example:\n",
    "\n",
    "def my_function(fname, lname):\n",
    "  print(fname + \" \" + lname)\n",
    "\n",
    "my_function(\"Emil\", \"Refsnes\")"
   ]
  },
  {
   "cell_type": "markdown",
   "metadata": {},
   "source": [
    "Arbitrary Arguments, *args"
   ]
  },
  {
   "cell_type": "code",
   "execution_count": 54,
   "metadata": {},
   "outputs": [
    {
     "name": "stdout",
     "output_type": "stream",
     "text": [
      "The youngest child is Linus\n"
     ]
    }
   ],
   "source": [
    "#Example:\n",
    "\n",
    "def my_function(*kids):\n",
    "  print(\"The youngest child is \" + kids[2])\n",
    "\n",
    "my_function(\"Emil\", \"Tobias\", \"Linus\")"
   ]
  },
  {
   "cell_type": "markdown",
   "metadata": {},
   "source": [
    "Keyword Arguments"
   ]
  },
  {
   "cell_type": "code",
   "execution_count": 55,
   "metadata": {},
   "outputs": [
    {
     "name": "stdout",
     "output_type": "stream",
     "text": [
      "The youngest child is Linus\n"
     ]
    }
   ],
   "source": [
    "#Example:\n",
    "\n",
    "def my_function(child3, child2, child1):\n",
    "  print(\"The youngest child is \" + child3)\n",
    "\n",
    "my_function(child1 = \"Emil\", child2 = \"Tobias\", child3 = \"Linus\")"
   ]
  },
  {
   "cell_type": "markdown",
   "metadata": {},
   "source": [
    "Arbitrary Keyword Arguments, **kwargs"
   ]
  },
  {
   "cell_type": "code",
   "execution_count": 56,
   "metadata": {},
   "outputs": [
    {
     "name": "stdout",
     "output_type": "stream",
     "text": [
      "His last name is Refsnes\n"
     ]
    }
   ],
   "source": [
    "#Example:\n",
    "\n",
    "def my_function(**kid):\n",
    "  print(\"His last name is \" + kid[\"lname\"])\n",
    "\n",
    "my_function(fname = \"Tobias\", lname = \"Refsnes\")"
   ]
  },
  {
   "cell_type": "markdown",
   "metadata": {},
   "source": [
    "Default Parameter Value"
   ]
  },
  {
   "cell_type": "code",
   "execution_count": 57,
   "metadata": {},
   "outputs": [
    {
     "name": "stdout",
     "output_type": "stream",
     "text": [
      "I am from Sweden\n",
      "I am from India\n",
      "I am from Norway\n",
      "I am from Brazil\n"
     ]
    }
   ],
   "source": [
    "#Example:\n",
    "\n",
    "def my_function(country = \"Norway\"):\n",
    "  print(\"I am from \" + country)\n",
    "\n",
    "my_function(\"Sweden\")\n",
    "my_function(\"India\")\n",
    "my_function()\n",
    "my_function(\"Brazil\")"
   ]
  },
  {
   "cell_type": "markdown",
   "metadata": {},
   "source": [
    "Passing a List as an Argument"
   ]
  },
  {
   "cell_type": "code",
   "execution_count": 58,
   "metadata": {},
   "outputs": [
    {
     "name": "stdout",
     "output_type": "stream",
     "text": [
      "apple\n",
      "banana\n",
      "cherry\n"
     ]
    }
   ],
   "source": [
    "#Example:\n",
    "\n",
    "def my_function(food):\n",
    "  for x in food:\n",
    "    print(x)\n",
    "\n",
    "fruits = [\"apple\", \"banana\", \"cherry\"]\n",
    "\n",
    "my_function(fruits)"
   ]
  },
  {
   "cell_type": "markdown",
   "metadata": {},
   "source": [
    "Return Values"
   ]
  },
  {
   "cell_type": "code",
   "execution_count": 59,
   "metadata": {},
   "outputs": [
    {
     "name": "stdout",
     "output_type": "stream",
     "text": [
      "15\n",
      "25\n",
      "45\n"
     ]
    }
   ],
   "source": [
    "#Example:\n",
    "\n",
    "def my_function(x):\n",
    "  return 5 * x\n",
    "\n",
    "print(my_function(3))\n",
    "print(my_function(5))\n",
    "print(my_function(9))"
   ]
  },
  {
   "cell_type": "markdown",
   "metadata": {},
   "source": [
    "The pass Statement"
   ]
  },
  {
   "cell_type": "code",
   "execution_count": 2,
   "metadata": {},
   "outputs": [],
   "source": [
    "#Example:\n",
    "\n",
    "def myfunction():\n",
    "  pass"
   ]
  },
  {
   "cell_type": "code",
   "execution_count": 61,
   "metadata": {},
   "outputs": [
    {
     "name": "stdout",
     "output_type": "stream",
     "text": [
      "3\n"
     ]
    }
   ],
   "source": [
    "#Example:\n",
    "\n",
    "def my_function(x, /):\n",
    "  print(x)\n",
    "\n",
    "my_function(3)"
   ]
  },
  {
   "cell_type": "code",
   "execution_count": 62,
   "metadata": {},
   "outputs": [
    {
     "name": "stdout",
     "output_type": "stream",
     "text": [
      "3\n"
     ]
    }
   ],
   "source": [
    "#Example:\n",
    "\n",
    "def my_function(x):\n",
    "  print(x)\n",
    "\n",
    "my_function(x = 3)"
   ]
  },
  {
   "cell_type": "markdown",
   "metadata": {},
   "source": [
    "Keyword-Only Arguments"
   ]
  },
  {
   "cell_type": "code",
   "execution_count": 63,
   "metadata": {},
   "outputs": [
    {
     "name": "stdout",
     "output_type": "stream",
     "text": [
      "3\n"
     ]
    }
   ],
   "source": [
    "#Example:\n",
    "\n",
    "def my_function(*, x):\n",
    "  print(x)\n",
    "\n",
    "my_function(x = 3)"
   ]
  },
  {
   "cell_type": "code",
   "execution_count": 64,
   "metadata": {},
   "outputs": [
    {
     "name": "stdout",
     "output_type": "stream",
     "text": [
      "3\n"
     ]
    }
   ],
   "source": [
    "#Example:\n",
    "\n",
    "def my_function(x):\n",
    "  print(x)\n",
    "\n",
    "my_function(3)\n"
   ]
  },
  {
   "cell_type": "code",
   "execution_count": 65,
   "metadata": {},
   "outputs": [
    {
     "name": "stdout",
     "output_type": "stream",
     "text": [
      "26\n"
     ]
    }
   ],
   "source": [
    "#Example:\n",
    "\n",
    "def my_function(a, b, /, *, c, d):\n",
    "  print(a + b + c + d)\n",
    "\n",
    "my_function(5, 6, c = 7, d = 8)"
   ]
  },
  {
   "cell_type": "code",
   "execution_count": 66,
   "metadata": {},
   "outputs": [
    {
     "name": "stdout",
     "output_type": "stream",
     "text": [
      "Recursion Example Results:\n",
      "1\n",
      "3\n",
      "6\n",
      "10\n",
      "15\n",
      "21\n"
     ]
    },
    {
     "data": {
      "text/plain": [
       "21"
      ]
     },
     "execution_count": 66,
     "metadata": {},
     "output_type": "execute_result"
    }
   ],
   "source": [
    "#Example:\n",
    "\n",
    "def tri_recursion(k):\n",
    "  if(k > 0):\n",
    "    result = k + tri_recursion(k - 1)\n",
    "    print(result)\n",
    "  else:\n",
    "    result = 0\n",
    "  return result\n",
    "\n",
    "print(\"Recursion Example Results:\")\n",
    "tri_recursion(6)"
   ]
  }
 ],
 "metadata": {
  "kernelspec": {
   "display_name": "Python 3",
   "language": "python",
   "name": "python3"
  },
  "language_info": {
   "codemirror_mode": {
    "name": "ipython",
    "version": 3
   },
   "file_extension": ".py",
   "mimetype": "text/x-python",
   "name": "python",
   "nbconvert_exporter": "python",
   "pygments_lexer": "ipython3",
   "version": "3.11.9"
  }
 },
 "nbformat": 4,
 "nbformat_minor": 2
}
